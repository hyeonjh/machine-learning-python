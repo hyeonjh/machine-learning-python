{
  "nbformat": 4,
  "nbformat_minor": 0,
  "metadata": {
    "colab": {
      "provenance": [],
      "authorship_tag": "ABX9TyPAzik+/xdCs7MayCKhp4RM",
      "include_colab_link": true
    },
    "kernelspec": {
      "name": "python3",
      "display_name": "Python 3"
    },
    "language_info": {
      "name": "python"
    }
  },
  "cells": [
    {
      "cell_type": "markdown",
      "metadata": {
        "id": "view-in-github",
        "colab_type": "text"
      },
      "source": [
        "<a href=\"https://colab.research.google.com/github/hyeonjh/machine-learning-python/blob/main/Clustering.ipynb\" target=\"_parent\"><img src=\"https://colab.research.google.com/assets/colab-badge.svg\" alt=\"Open In Colab\"/></a>"
      ]
    },
    {
      "cell_type": "code",
      "execution_count": 30,
      "metadata": {
        "colab": {
          "base_uri": "https://localhost:8080/",
          "height": 282
        },
        "id": "29OAyq5-5FkE",
        "outputId": "b456504e-d329-4696-a06e-3708a9a9275d"
      },
      "outputs": [
        {
          "output_type": "display_data",
          "data": {
            "text/plain": [
              "<Figure size 432x288 with 1 Axes>"
            ],
            "image/png": "[encoded data removed]"
          },
          "metadata": {
            "needs_background": "light"
          }
        }
      ],
      "source": [
        "# Kmeans 분석 \n",
        "\n",
        "\n",
        "import matplotlib.pyplot as plt \n",
        "from sklearn import cluster\n",
        "from sklearn import datasets\n",
        "\n",
        "%matplotlib inline\n",
        "\n",
        "#iris 데이터를 로드 \n",
        "iris = datasets.load_iris()\n",
        "data = iris['data']\n",
        "# print(iris)\n",
        "# print(data)\n",
        "\n",
        "# #학습 -> 클러스터 생성 \n",
        "model = cluster.KMeans(n_clusters = 3 )\n",
        "model.fit(data)\n",
        "\n",
        "#학습 결과의 라벨 취득 \n",
        "labels= model.labels_\n",
        "# print(labels)\n",
        "\n",
        "ldata = data[labels == 0 ]\n",
        "plt.scatter(ldata[:,2],ldata[:,3], c='red', alpha=0.3, s = 100 , marker='o')\n",
        "ldata = data[labels == 1 ]\n",
        "plt.scatter(ldata[:,2],ldata[:,3], c='blue', alpha=0.3, s = 100 , marker='o')\n",
        "\n",
        "ldata = data[labels == 2 ]\n",
        "plt.scatter(ldata[:,2],ldata[:,3], c='yellow', alpha=0.3, s = 100 , marker='o')\n",
        "\n",
        "#축 라벨 설정 \n",
        "plt.xlabel(iris['feature_names'][2],fontsize = 'large')\n",
        "plt.ylabel(iris['feature_names'][3], fontsize = 'large')\n",
        "\n",
        "plt.show()\n"
      ]
    },
    {
      "cell_type": "code",
      "source": [
        "# print(model.labels_)\n",
        "# print(data.shape)\n",
        "\n",
        "iris['target'] == model.labels_\n",
        "iris['target']\n",
        "iris['feature_names'] \n"
      ],
      "metadata": {
        "colab": {
          "base_uri": "https://localhost:8080/"
        },
        "id": "MbsyZ0J5-EOS",
        "outputId": "4f1e0b1c-b06b-4d32-a0db-3243fa010337"
      },
      "execution_count": 40,
      "outputs": [
        {
          "output_type": "execute_result",
          "data": {
            "text/plain": [
              "['sepal length (cm)',\n",
              " 'sepal width (cm)',\n",
              " 'petal length (cm)',\n",
              " 'petal width (cm)']"
            ]
          },
          "metadata": {},
          "execution_count": 40
        }
      ]
    }
  ]
}
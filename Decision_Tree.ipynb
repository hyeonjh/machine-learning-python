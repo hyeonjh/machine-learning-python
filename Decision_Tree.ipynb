{
  "nbformat": 4,
  "nbformat_minor": 0,
  "metadata": {
    "colab": {
      "provenance": [],
      "authorship_tag": "ABX9TyPMkQeAWqYAMrmEcrM7EHgb",
      "include_colab_link": true
    },
    "kernelspec": {
      "name": "python3",
      "display_name": "Python 3"
    },
    "language_info": {
      "name": "python"
    }
  },
  "cells": [
    {
      "cell_type": "markdown",
      "metadata": {
        "id": "view-in-github",
        "colab_type": "text"
      },
      "source": [
        "<a href=\"https://colab.research.google.com/github/hyeonjh/machine-learning-python/blob/main/Decision_Tree.ipynb\" target=\"_parent\"><img src=\"https://colab.research.google.com/assets/colab-badge.svg\" alt=\"Open In Colab\"/></a>"
      ]
    },
    {
      "cell_type": "code",
      "execution_count": null,
      "metadata": {
        "id": "h67CLkGzIkEv"
      },
      "outputs": [],
      "source": [
        "# -*- coding: utf-8 -*-\n",
        "\n",
        "import matplotlib.pyplot as plt \n",
        "import random\n",
        "from sklearn import datasets, tree\n",
        "from sklearn.metrics import accuracy_score , confusion_matrix\n",
        "from sklearn.metrics import precision_score , recall_score , f1_score\n",
        "\n",
        "#데이터 읽어오기 \n",
        "digits = datasets.load_digits()\n",
        "\n",
        "print(digits)\n",
        "\n",
        "# 이미지를 표시함 \n",
        "for label, img in zip(digits.target[:10], digits.images[:10]):\n",
        "  plt.subplot(2,5,label + 1)\n",
        "  plt.imshow(img, cmap = plt.cm.gray_r, interpolation= 'nearest')\n",
        "  plt.title('Digit: {0}'.format(label))\n",
        "plt.show()"
      ]
    }
  ]
}